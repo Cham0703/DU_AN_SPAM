{
  "nbformat": 4,
  "nbformat_minor": 0,
  "metadata": {
    "colab": {
      "provenance": [],
      "authorship_tag": "ABX9TyPDGR7ejxORJMtGoy/ZMa6y",
      "include_colab_link": true
    },
    "kernelspec": {
      "name": "python3",
      "display_name": "Python 3"
    },
    "language_info": {
      "name": "python"
    }
  },
  "cells": [
    {
      "cell_type": "markdown",
      "metadata": {
        "id": "view-in-github",
        "colab_type": "text"
      },
      "source": [
        "<a href=\"https://colab.research.google.com/github/Cham0703/DU_AN_SPAM/blob/main/main_email_detechtion.ipynb\" target=\"_parent\"><img src=\"https://colab.research.google.com/assets/colab-badge.svg\" alt=\"Open In Colab\"/></a>"
      ]
    },
    {
      "cell_type": "markdown",
      "source": [
        "Code 1"
      ],
      "metadata": {
        "id": "TYDWi5yknxeg"
      }
    },
    {
      "cell_type": "code",
      "execution_count": 2,
      "metadata": {
        "id": "AVfldbkpmTcg",
        "outputId": "48d0430a-0c7e-44bc-cb32-cda54aa6a5c1",
        "colab": {
          "base_uri": "https://localhost:8080/",
          "height": 228
        }
      },
      "outputs": [
        {
          "output_type": "error",
          "ename": "FileNotFoundError",
          "evalue": "[Errno 2] No such file or directory: 'D:/spam.csv'",
          "traceback": [
            "\u001b[0;31m---------------------------------------------------------------------------\u001b[0m",
            "\u001b[0;31mFileNotFoundError\u001b[0m                         Traceback (most recent call last)",
            "\u001b[0;32m<ipython-input-2-a035f54cf34e>\u001b[0m in \u001b[0;36m<cell line: 0>\u001b[0;34m()\u001b[0m\n\u001b[1;32m     10\u001b[0m \u001b[0mduong_dan\u001b[0m \u001b[0;34m=\u001b[0m \u001b[0;34m\"D:/spam.csv\"\u001b[0m\u001b[0;34m\u001b[0m\u001b[0;34m\u001b[0m\u001b[0m\n\u001b[1;32m     11\u001b[0m \u001b[0;31m# Tự động phát hiện encoding của file để tránh lỗi khi đọc (máy tui bị lỗi f8 nên tui chạy chuẩn đoán cho chắc )\u001b[0m\u001b[0;34m\u001b[0m\u001b[0;34m\u001b[0m\u001b[0m\n\u001b[0;32m---> 12\u001b[0;31m \u001b[0;32mwith\u001b[0m \u001b[0mopen\u001b[0m\u001b[0;34m(\u001b[0m\u001b[0mduong_dan\u001b[0m\u001b[0;34m,\u001b[0m \u001b[0;34m\"rb\"\u001b[0m\u001b[0;34m)\u001b[0m \u001b[0;32mas\u001b[0m \u001b[0mf\u001b[0m\u001b[0;34m:\u001b[0m\u001b[0;34m\u001b[0m\u001b[0;34m\u001b[0m\u001b[0m\n\u001b[0m\u001b[1;32m     13\u001b[0m     \u001b[0mresult\u001b[0m \u001b[0;34m=\u001b[0m \u001b[0mchardet\u001b[0m\u001b[0;34m.\u001b[0m\u001b[0mdetect\u001b[0m\u001b[0;34m(\u001b[0m\u001b[0mf\u001b[0m\u001b[0;34m.\u001b[0m\u001b[0mread\u001b[0m\u001b[0;34m(\u001b[0m\u001b[0;36m10000\u001b[0m\u001b[0;34m)\u001b[0m\u001b[0;34m)\u001b[0m  \u001b[0;31m# Đọc thử 10.000 byte\u001b[0m\u001b[0;34m\u001b[0m\u001b[0;34m\u001b[0m\u001b[0m\n\u001b[1;32m     14\u001b[0m     \u001b[0mencoding\u001b[0m \u001b[0;34m=\u001b[0m \u001b[0mresult\u001b[0m\u001b[0;34m[\u001b[0m\u001b[0;34m'encoding'\u001b[0m\u001b[0;34m]\u001b[0m\u001b[0;34m\u001b[0m\u001b[0;34m\u001b[0m\u001b[0m\n",
            "\u001b[0;31mFileNotFoundError\u001b[0m: [Errno 2] No such file or directory: 'D:/spam.csv'"
          ]
        }
      ],
      "source": [
        "import pandas as pd\n",
        "import matplotlib.pyplot as plt\n",
        "import seaborn as sns\n",
        "import chardet\n",
        "from wordcloud import WordCloud\n",
        "import re\n",
        "import nltk\n",
        "from nltk.corpus import stopwords\n",
        "# 🧾 BƯỚC 1: Đọc file từ ổ đĩa\n",
        "duong_dan = \"D:/spam.csv\"\n",
        "# Tự động phát hiện encoding của file để tránh lỗi khi đọc (máy tui bị lỗi f8 nên tui chạy chuẩn đoán cho chắc )\n",
        "with open(duong_dan, \"rb\") as f:\n",
        "    result = chardet.detect(f.read(10000))  # Đọc thử 10.000 byte\n",
        "    encoding = result['encoding']\n",
        "    print(f\"Đã đoán encoding: {encoding}\")\n",
        "# Đọc dữ liệu và chuẩn hóa cột\n",
        "df = pd.read_csv(duong_dan, encoding=encoding)\n",
        "df = df[['v1', 'v2']]                    # Lấy 2 cột cần thiết\n",
        "df.columns = ['label', 'message']       # Đặt tên cột rõ ràng\n",
        "# 📊 BƯỚC 2: Khám phá dữ liệu (EDA)\n",
        "# Thống kê số lượng ham/spam\n",
        "print(\"Số lượng ham/spam:\")\n",
        "print(df['label'].value_counts())\n",
        "# Vẽ biểu đồ cột số lượng\n",
        "sns.countplot(data=df, x='label')\n",
        "plt.title(\"Số lượng tin nhắn ham/spam\")\n",
        "plt.show()\n",
        "# Tính độ dài tin nhắn\n",
        "df['message_length'] = df['message'].apply(len)\n",
        "# Vẽ biểu đồ phân bố độ dài tin nhắn\n",
        "sns.histplot(data=df, x='message_length', hue='label', bins=50, kde=True)\n",
        "plt.title(\"Độ dài tin nhắn theo nhãn\")\n",
        "plt.show()\n",
        "# ☁️ BƯỚC 3: Tạo WordCloud\n",
        "spam_text = ' '.join(df[df['label'] == 'spam']['message'])\n",
        "ham_text = ' '.join(df[df['label'] == 'ham']['message'])\n",
        "plt.figure(figsize=(12,6))\n",
        "plt.subplot(1, 2, 1)\n",
        "plt.imshow(WordCloud(width=500, height=300, background_color='white').generate(spam_text))\n",
        "plt.axis(\"off\")\n",
        "plt.title(\"Spam WordCloud\")\n",
        "plt.subplot(1, 2, 2)\n",
        "plt.imshow(WordCloud(width=500, height=300, background_color='white').generate(ham_text))\n",
        "plt.axis(\"off\")\n",
        "plt.title(\"Ham WordCloud\")\n",
        "plt.show()\n",
        "# 🧹 BƯỚC 4: Làm sạch tin nhắn\n",
        "# Đường dẫn đến file spam.csv của bạn\n",
        "duong_dan = \"D:/spam.csv\"\n",
        "# Phát hiện encoding để tránh lỗi Unicode\n",
        "with open(duong_dan, \"rb\") as f:\n",
        "    encoding = chardet.detect(f.read())['encoding']\n",
        "# Đọc dữ liệu và đổi tên cột\n",
        "df = pd.read_csv(duong_dan, encoding=encoding)[['v1', 'v2']]\n",
        "df.columns = ['label', 'message']\n",
        "# Tải stopwords nếu chưa có\n",
        "nltk.download('stopwords')\n",
        "stop_words = set(stopwords.words('english'))\n",
        "# Hàm làm sạch văn bản\n",
        "def clean_message(msg):\n",
        "    msg = msg.lower()                              # Chuyển sang chữ thường\n",
        "    msg = re.sub(r'\\d+', '', msg)                 # Xoá chữ số\n",
        "    msg = re.sub(r'[^\\w\\s]', '', msg)             # Xoá dấu câu\n",
        "    words = msg.split()                           # Tách từ\n",
        "    words = [w for w in words if w not in stop_words]  # Bỏ stop words\n",
        "    return ' '.join(words)\n",
        "# Tạo cột mới chứa tin nhắn đã làm sạch\n",
        "df['cleaned_message'] = df['message'].apply(clean_message)\n",
        "# Chỉ giữ lại hai cột yêu cầu: nhãn và tin nhắn đã làm sạch\n",
        "df_output = df[['label', 'cleaned_message']]\n",
        "# Hiển thị 5 dòng đầu để kiểm tra\n",
        "print(df_output.head())"
      ]
    },
    {
      "cell_type": "markdown",
      "source": [
        "Code 2"
      ],
      "metadata": {
        "id": "yC_dI-Trn1QR"
      }
    },
    {
      "cell_type": "code",
      "source": [
        "import pandas as pd\n",
        "import numpy as np\n",
        "from sklearn.model_selection import train_test_split\n",
        "from sklearn.feature_extraction.text import CountVectorizer, TfidfVectorizer\n",
        "\n",
        "duong_dan = \"D:/spam.csv\"\n",
        "\n",
        "# BƯỚC 1: Chuyển đổi nhãn sang dạng số\n",
        "# Chuyển 'ham' thành 0, 'spam' thành 1\n",
        "df['label_num'] = df['label'].map({'ham': 0, 'spam': 1})\n",
        "\n",
        "# In ra để kiểm tra\n",
        "print(\"Số lượng mẫu theo nhãn số:\")\n",
        "print(df['label_num'].value_counts())\n",
        "\n",
        "# BƯỚC 2: Chuyển đổi tin nhắn thành đặc trưng số\n",
        "# Sử dụng CountVectorizer (Mô hình Bag of Words)\n",
        "count_vectorizer = CountVectorizer(max_features=5000)  # Giới hạn 5000 từ phổ biến nhất\n",
        "X_count = count_vectorizer.fit_transform(df['cleaned_message'])\n",
        "\n",
        "# Sử dụng TF-IDF Vectorizer\n",
        "tfidf_vectorizer = TfidfVectorizer(max_features=5000)\n",
        "X_tfidf = tfidf_vectorizer.fit_transform(df['cleaned_message'])\n",
        "\n",
        "# In ra kích thước của dữ liệu sau khi chuyển đổi\n",
        "print(f\"Kích thước dữ liệu CountVectorizer: {X_count.shape}\")\n",
        "print(f\"Kích thước dữ liệu TF-IDF: {X_tfidf.shape}\")\n",
        "\n",
        "# BƯỚC 3: Chia dữ liệu thành tập huấn luyện và tập kiểm tra\n",
        "# Sử dụng cả hai loại đặc trưng để so sánh\n",
        "# Sử dụng CountVectorizer\n",
        "X_count_train, X_count_test, y_count_train, y_count_test = train_test_split(\n",
        "    X_count, df['label_num'], test_size=0.2, random_state=42, stratify=df['label_num']\n",
        ")\n",
        "\n",
        "# Sử dụng TF-IDF\n",
        "X_tfidf_train, X_tfidf_test, y_tfidf_train, y_tfidf_test = train_test_split(\n",
        "    X_tfidf, df['label_num'], test_size=0.2, random_state=42, stratify=df['label_num']\n",
        ")\n",
        "\n",
        "# BƯỚC 4: Lưu từ vựng để sử dụng sau này\n",
        "count_vocab = count_vectorizer.get_feature_names_out()\n",
        "tfidf_vocab = tfidf_vectorizer.get_feature_names_out()\n",
        "\n",
        "# In ra thông tin về tập huấn luyện và kiểm tra\n",
        "print(\"\\nThông tin về bộ dữ liệu đã chia:\")\n",
        "print(f\"Số lượng mẫu huấn luyện: {X_count_train.shape[0]}\")\n",
        "print(f\"Số lượng mẫu kiểm tra: {X_count_test.shape[0]}\")\n",
        "print(f\"Tỷ lệ spam trong tập huấn luyện: {y_count_train.mean()*100:.2f}%\")\n",
        "print(f\"Tỷ lệ spam trong tập kiểm tra: {y_count_test.mean()*100:.2f}%\")\n",
        "\n",
        "\n",
        "output_summary = {\n",
        "    'CountVectorizer': {\n",
        "        'X_train shape': X_count_train.shape,\n",
        "        'X_test shape': X_count_test.shape,\n",
        "        'y_train shape': y_count_train.shape,\n",
        "        'y_test shape': y_count_test.shape,\n",
        "        'vocabulary size': len(count_vocab)\n",
        "    },\n",
        "    'TfidfVectorizer': {\n",
        "        'X_train shape': X_tfidf_train.shape,\n",
        "        'X_test shape': X_tfidf_test.shape,\n",
        "        'y_train shape': y_tfidf_train.shape,\n",
        "        'y_test shape': y_tfidf_test.shape,\n",
        "        'vocabulary size': len(tfidf_vocab)\n",
        "    }\n",
        "}\n",
        "\n",
        "print(\"\\nTổng kết:\")\n",
        "for method, details in output_summary.items():\n",
        "    print(f\"\\n{method}:\")\n",
        "    for key, value in details.items():\n",
        "        print(f\"  - {key}: {value}\")"
      ],
      "metadata": {
        "id": "d4fT9RIOn8hD",
        "outputId": "d5fec8dc-eeeb-4da2-9f4b-797474906d3b",
        "colab": {
          "base_uri": "https://localhost:8080/",
          "height": 211
        }
      },
      "execution_count": 1,
      "outputs": [
        {
          "output_type": "error",
          "ename": "NameError",
          "evalue": "name 'df' is not defined",
          "traceback": [
            "\u001b[0;31m---------------------------------------------------------------------------\u001b[0m",
            "\u001b[0;31mNameError\u001b[0m                                 Traceback (most recent call last)",
            "\u001b[0;32m<ipython-input-1-620f75d84e3c>\u001b[0m in \u001b[0;36m<cell line: 0>\u001b[0;34m()\u001b[0m\n\u001b[1;32m      8\u001b[0m \u001b[0;31m# BƯỚC 1: Chuyển đổi nhãn sang dạng số\u001b[0m\u001b[0;34m\u001b[0m\u001b[0;34m\u001b[0m\u001b[0m\n\u001b[1;32m      9\u001b[0m \u001b[0;31m# Chuyển 'ham' thành 0, 'spam' thành 1\u001b[0m\u001b[0;34m\u001b[0m\u001b[0;34m\u001b[0m\u001b[0m\n\u001b[0;32m---> 10\u001b[0;31m \u001b[0mdf\u001b[0m\u001b[0;34m[\u001b[0m\u001b[0;34m'label_num'\u001b[0m\u001b[0;34m]\u001b[0m \u001b[0;34m=\u001b[0m \u001b[0mdf\u001b[0m\u001b[0;34m[\u001b[0m\u001b[0;34m'label'\u001b[0m\u001b[0;34m]\u001b[0m\u001b[0;34m.\u001b[0m\u001b[0mmap\u001b[0m\u001b[0;34m(\u001b[0m\u001b[0;34m{\u001b[0m\u001b[0;34m'ham'\u001b[0m\u001b[0;34m:\u001b[0m \u001b[0;36m0\u001b[0m\u001b[0;34m,\u001b[0m \u001b[0;34m'spam'\u001b[0m\u001b[0;34m:\u001b[0m \u001b[0;36m1\u001b[0m\u001b[0;34m}\u001b[0m\u001b[0;34m)\u001b[0m\u001b[0;34m\u001b[0m\u001b[0;34m\u001b[0m\u001b[0m\n\u001b[0m\u001b[1;32m     11\u001b[0m \u001b[0;34m\u001b[0m\u001b[0m\n\u001b[1;32m     12\u001b[0m \u001b[0;31m# In ra để kiểm tra\u001b[0m\u001b[0;34m\u001b[0m\u001b[0;34m\u001b[0m\u001b[0m\n",
            "\u001b[0;31mNameError\u001b[0m: name 'df' is not defined"
          ]
        }
      ]
    }
  ]
}